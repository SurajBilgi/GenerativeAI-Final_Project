{
 "cells": [
  {
   "cell_type": "code",
   "execution_count": 8,
   "metadata": {},
   "outputs": [],
   "source": [
    "from utils.sql import MySQL\n",
    "import pandas as pd"
   ]
  },
  {
   "cell_type": "code",
   "execution_count": 9,
   "metadata": {},
   "outputs": [],
   "source": [
    "mysql = MySQL()"
   ]
  },
  {
   "cell_type": "code",
   "execution_count": 10,
   "metadata": {},
   "outputs": [
    {
     "data": {
      "text/plain": [
       "[{'name': 'The Culinary Haven'},\n",
       " {'name': 'Bistro Fusion'},\n",
       " {'name': 'Spice Symphony'}]"
      ]
     },
     "execution_count": 10,
     "metadata": {},
     "output_type": "execute_result"
    }
   ],
   "source": [
    "result = mysql(\"SELECT name FROM restaurants.name\")\n",
    "result"
   ]
  },
  {
   "cell_type": "code",
   "execution_count": 12,
   "metadata": {},
   "outputs": [
    {
     "data": {
      "text/html": [
       "<div>\n",
       "<style scoped>\n",
       "    .dataframe tbody tr th:only-of-type {\n",
       "        vertical-align: middle;\n",
       "    }\n",
       "\n",
       "    .dataframe tbody tr th {\n",
       "        vertical-align: top;\n",
       "    }\n",
       "\n",
       "    .dataframe thead th {\n",
       "        text-align: right;\n",
       "    }\n",
       "</style>\n",
       "<table border=\"1\" class=\"dataframe\">\n",
       "  <thead>\n",
       "    <tr style=\"text-align: right;\">\n",
       "      <th></th>\n",
       "      <th>item_type</th>\n",
       "      <th>item_name</th>\n",
       "      <th>cost</th>\n",
       "      <th>preparation_time</th>\n",
       "    </tr>\n",
       "  </thead>\n",
       "  <tbody>\n",
       "    <tr>\n",
       "      <th>0</th>\n",
       "      <td>Starters</td>\n",
       "      <td>Shrimp Cocktail</td>\n",
       "      <td>8.99</td>\n",
       "      <td>10</td>\n",
       "    </tr>\n",
       "    <tr>\n",
       "      <th>1</th>\n",
       "      <td>Starters</td>\n",
       "      <td>Bruschetta al Pomodoro</td>\n",
       "      <td>6.50</td>\n",
       "      <td>10</td>\n",
       "    </tr>\n",
       "    <tr>\n",
       "      <th>2</th>\n",
       "      <td>Starters</td>\n",
       "      <td>Chicken Caesar Salad</td>\n",
       "      <td>9.99</td>\n",
       "      <td>15</td>\n",
       "    </tr>\n",
       "    <tr>\n",
       "      <th>3</th>\n",
       "      <td>Starters</td>\n",
       "      <td>Beef Sliders</td>\n",
       "      <td>10.99</td>\n",
       "      <td>20</td>\n",
       "    </tr>\n",
       "    <tr>\n",
       "      <th>4</th>\n",
       "      <td>Starters</td>\n",
       "      <td>Stuffed Mushrooms</td>\n",
       "      <td>7.99</td>\n",
       "      <td>18</td>\n",
       "    </tr>\n",
       "    <tr>\n",
       "      <th>5</th>\n",
       "      <td>Main Course</td>\n",
       "      <td>Lamb Shank</td>\n",
       "      <td>21.99</td>\n",
       "      <td>120</td>\n",
       "    </tr>\n",
       "    <tr>\n",
       "      <th>6</th>\n",
       "      <td>Main Course</td>\n",
       "      <td>Teriyaki Salmon</td>\n",
       "      <td>16.99</td>\n",
       "      <td>25</td>\n",
       "    </tr>\n",
       "    <tr>\n",
       "      <th>7</th>\n",
       "      <td>Main Course</td>\n",
       "      <td>Ribeye Steak</td>\n",
       "      <td>24.99</td>\n",
       "      <td>25</td>\n",
       "    </tr>\n",
       "    <tr>\n",
       "      <th>8</th>\n",
       "      <td>Main Course</td>\n",
       "      <td>Fettuccine Alfredo</td>\n",
       "      <td>13.99</td>\n",
       "      <td>20</td>\n",
       "    </tr>\n",
       "    <tr>\n",
       "      <th>9</th>\n",
       "      <td>Main Course</td>\n",
       "      <td>Grilled Chicken Caesar Wrap</td>\n",
       "      <td>11.99</td>\n",
       "      <td>15</td>\n",
       "    </tr>\n",
       "    <tr>\n",
       "      <th>10</th>\n",
       "      <td>Desserts</td>\n",
       "      <td>CrÃ¨me BrÃ»lÃ©e</td>\n",
       "      <td>7.99</td>\n",
       "      <td>45</td>\n",
       "    </tr>\n",
       "    <tr>\n",
       "      <th>11</th>\n",
       "      <td>Desserts</td>\n",
       "      <td>Chocolate Fondue</td>\n",
       "      <td>8.99</td>\n",
       "      <td>15</td>\n",
       "    </tr>\n",
       "    <tr>\n",
       "      <th>12</th>\n",
       "      <td>Desserts</td>\n",
       "      <td>Panna Cotta</td>\n",
       "      <td>6.99</td>\n",
       "      <td>240</td>\n",
       "    </tr>\n",
       "    <tr>\n",
       "      <th>13</th>\n",
       "      <td>Desserts</td>\n",
       "      <td>Banana Split</td>\n",
       "      <td>5.99</td>\n",
       "      <td>10</td>\n",
       "    </tr>\n",
       "    <tr>\n",
       "      <th>14</th>\n",
       "      <td>Desserts</td>\n",
       "      <td>Baklava</td>\n",
       "      <td>6.50</td>\n",
       "      <td>50</td>\n",
       "    </tr>\n",
       "  </tbody>\n",
       "</table>\n",
       "</div>"
      ],
      "text/plain": [
       "      item_type                    item_name   cost  preparation_time\n",
       "0      Starters              Shrimp Cocktail   8.99                10\n",
       "1      Starters       Bruschetta al Pomodoro   6.50                10\n",
       "2      Starters         Chicken Caesar Salad   9.99                15\n",
       "3      Starters                 Beef Sliders  10.99                20\n",
       "4      Starters            Stuffed Mushrooms   7.99                18\n",
       "5   Main Course                   Lamb Shank  21.99               120\n",
       "6   Main Course              Teriyaki Salmon  16.99                25\n",
       "7   Main Course                 Ribeye Steak  24.99                25\n",
       "8   Main Course           Fettuccine Alfredo  13.99                20\n",
       "9   Main Course  Grilled Chicken Caesar Wrap  11.99                15\n",
       "10     Desserts              CrÃ¨me BrÃ»lÃ©e   7.99                45\n",
       "11     Desserts             Chocolate Fondue   8.99                15\n",
       "12     Desserts                  Panna Cotta   6.99               240\n",
       "13     Desserts                 Banana Split   5.99                10\n",
       "14     Desserts                      Baklava   6.50                50"
      ]
     },
     "execution_count": 12,
     "metadata": {},
     "output_type": "execute_result"
    }
   ],
   "source": [
    "result = mysql(\"\"\"\n",
    "               SELECT item_type, item_name, cost, preparation_time \n",
    "               FROM restaurants.details \n",
    "               WHERE restaurant_id in (SELECT id from restaurants.name WHERE name like \"%Bistro Fusion%\") \n",
    "               \"\"\")\n",
    "pd.DataFrame(result)"
   ]
  },
  {
   "cell_type": "code",
   "execution_count": null,
   "metadata": {},
   "outputs": [],
   "source": []
  }
 ],
 "metadata": {
  "kernelspec": {
   "display_name": "stevens",
   "language": "python",
   "name": "python3"
  },
  "language_info": {
   "codemirror_mode": {
    "name": "ipython",
    "version": 3
   },
   "file_extension": ".py",
   "mimetype": "text/x-python",
   "name": "python",
   "nbconvert_exporter": "python",
   "pygments_lexer": "ipython3",
   "version": "3.11.5"
  }
 },
 "nbformat": 4,
 "nbformat_minor": 2
}
