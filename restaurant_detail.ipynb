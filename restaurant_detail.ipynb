{
 "cells": [
  {
   "cell_type": "code",
   "execution_count": 1,
   "metadata": {},
   "outputs": [],
   "source": [
    "import pandas as pd\n",
    "import json"
   ]
  },
  {
   "cell_type": "code",
   "execution_count": 2,
   "metadata": {},
   "outputs": [],
   "source": [
    "restaurant_details = pd.read_csv(\"data/restaurant_details_openai.csv\")"
   ]
  },
  {
   "cell_type": "code",
   "execution_count": 3,
   "metadata": {},
   "outputs": [
    {
     "data": {
      "text/html": [
       "<div>\n",
       "<style scoped>\n",
       "    .dataframe tbody tr th:only-of-type {\n",
       "        vertical-align: middle;\n",
       "    }\n",
       "\n",
       "    .dataframe tbody tr th {\n",
       "        vertical-align: top;\n",
       "    }\n",
       "\n",
       "    .dataframe thead th {\n",
       "        text-align: right;\n",
       "    }\n",
       "</style>\n",
       "<table border=\"1\" class=\"dataframe\">\n",
       "  <thead>\n",
       "    <tr style=\"text-align: right;\">\n",
       "      <th></th>\n",
       "      <th>restaurantname</th>\n",
       "      <th>item_type</th>\n",
       "      <th>item_name</th>\n",
       "      <th>descriptiom</th>\n",
       "      <th>ingredients</th>\n",
       "      <th>cost</th>\n",
       "      <th>preparation_time</th>\n",
       "    </tr>\n",
       "  </thead>\n",
       "  <tbody>\n",
       "    <tr>\n",
       "      <th>0</th>\n",
       "      <td>The Culinary Haven</td>\n",
       "      <td>Starters</td>\n",
       "      <td>Golden Corn Soup</td>\n",
       "      <td>A creamy, comforting blend of sweet corn and h...</td>\n",
       "      <td>Sweet corn, Vegetable stock, Cream, Herbs</td>\n",
       "      <td>5.99</td>\n",
       "      <td>10</td>\n",
       "    </tr>\n",
       "    <tr>\n",
       "      <th>1</th>\n",
       "      <td>The Culinary Haven</td>\n",
       "      <td>Starters</td>\n",
       "      <td>Chicken Satay Skewers</td>\n",
       "      <td>Grilled chicken skewers marinated in a blend o...</td>\n",
       "      <td>Chicken, Soy sauce, Peanut sauce, Spices</td>\n",
       "      <td>7.99</td>\n",
       "      <td>15</td>\n",
       "    </tr>\n",
       "    <tr>\n",
       "      <th>2</th>\n",
       "      <td>The Culinary Haven</td>\n",
       "      <td>Starters</td>\n",
       "      <td>Beef Carpaccio</td>\n",
       "      <td>Thinly sliced raw beef dressed with olive oil,...</td>\n",
       "      <td>Beef, Olive oil, Lemon juice, Capers</td>\n",
       "      <td>9.99</td>\n",
       "      <td>10</td>\n",
       "    </tr>\n",
       "    <tr>\n",
       "      <th>3</th>\n",
       "      <td>The Culinary Haven</td>\n",
       "      <td>Starters</td>\n",
       "      <td>Crispy Calamari Rings</td>\n",
       "      <td>Fried calamari rings served with a tangy marin...</td>\n",
       "      <td>Calamari, Flour, Marinara sauce, Lemon</td>\n",
       "      <td>8.50</td>\n",
       "      <td>12</td>\n",
       "    </tr>\n",
       "    <tr>\n",
       "      <th>4</th>\n",
       "      <td>The Culinary Haven</td>\n",
       "      <td>Starters</td>\n",
       "      <td>Veggie Spring Rolls</td>\n",
       "      <td>Crispy rolls filled with fresh vegetables and ...</td>\n",
       "      <td>Cabbage, Carrot, Glass noodles, Spring roll wr...</td>\n",
       "      <td>6.50</td>\n",
       "      <td>15</td>\n",
       "    </tr>\n",
       "  </tbody>\n",
       "</table>\n",
       "</div>"
      ],
      "text/plain": [
       "       restaurantname item_type              item_name  \\\n",
       "0  The Culinary Haven  Starters       Golden Corn Soup   \n",
       "1  The Culinary Haven  Starters  Chicken Satay Skewers   \n",
       "2  The Culinary Haven  Starters         Beef Carpaccio   \n",
       "3  The Culinary Haven  Starters  Crispy Calamari Rings   \n",
       "4  The Culinary Haven  Starters    Veggie Spring Rolls   \n",
       "\n",
       "                                         descriptiom  \\\n",
       "0  A creamy, comforting blend of sweet corn and h...   \n",
       "1  Grilled chicken skewers marinated in a blend o...   \n",
       "2  Thinly sliced raw beef dressed with olive oil,...   \n",
       "3  Fried calamari rings served with a tangy marin...   \n",
       "4  Crispy rolls filled with fresh vegetables and ...   \n",
       "\n",
       "                                         ingredients  cost  preparation_time  \n",
       "0          Sweet corn, Vegetable stock, Cream, Herbs  5.99                10  \n",
       "1           Chicken, Soy sauce, Peanut sauce, Spices  7.99                15  \n",
       "2               Beef, Olive oil, Lemon juice, Capers  9.99                10  \n",
       "3             Calamari, Flour, Marinara sauce, Lemon  8.50                12  \n",
       "4  Cabbage, Carrot, Glass noodles, Spring roll wr...  6.50                15  "
      ]
     },
     "execution_count": 3,
     "metadata": {},
     "output_type": "execute_result"
    }
   ],
   "source": [
    "restaurant_details.head()"
   ]
  },
  {
   "cell_type": "code",
   "execution_count": 4,
   "metadata": {},
   "outputs": [],
   "source": [
    "out = []\n",
    "for idx, row in restaurant_details.iterrows():\n",
    "    data = {}\n",
    "    data[\"restaurant_name\"] = row[\"restaurantname\"]\n",
    "    data[\"item_type\"] = row[\"item_type\"]\n",
    "    data[\"item_name\"] = row[\"item_name\"]\n",
    "    data[\"ingredients\"] = row[\"ingredients\"]\n",
    "    data[\"cost\"] = row[\"cost\"]\n",
    "    data[\"preparation_time\"] = row[\"preparation_time\"]\n",
    "    data[\"description\"] = row[\"descriptiom\"]\n",
    "    out.append({\n",
    "        \"page_content\": json.dumps(data),\n",
    "        \"metadata\": dict((key, value) for key, value in data.items() if key!=\"description\")\n",
    "    })\n"
   ]
  },
  {
   "cell_type": "code",
   "execution_count": 5,
   "metadata": {},
   "outputs": [
    {
     "data": {
      "text/plain": [
       "{'page_content': '{\"restaurant_name\": \"The Culinary Haven\", \"item_type\": \"Starters\", \"item_name\": \"Golden Corn Soup\", \"ingredients\": \"Sweet corn, Vegetable stock, Cream, Herbs\", \"cost\": 5.99, \"preparation_time\": 10, \"description\": \"A creamy, comforting blend of sweet corn and herbs.\"}',\n",
       " 'metadata': {'restaurant_name': 'The Culinary Haven',\n",
       "  'item_type': 'Starters',\n",
       "  'item_name': 'Golden Corn Soup',\n",
       "  'ingredients': 'Sweet corn, Vegetable stock, Cream, Herbs',\n",
       "  'cost': 5.99,\n",
       "  'preparation_time': 10}}"
      ]
     },
     "execution_count": 5,
     "metadata": {},
     "output_type": "execute_result"
    }
   ],
   "source": [
    "out[0]"
   ]
  },
  {
   "cell_type": "code",
   "execution_count": 6,
   "metadata": {},
   "outputs": [],
   "source": [
    "from langchain_community.embeddings import HuggingFaceEmbeddings\n",
    "from langchain_core.documents import Document\n",
    "from langchain_community.vectorstores import Chroma"
   ]
  },
  {
   "cell_type": "code",
   "execution_count": 7,
   "metadata": {},
   "outputs": [],
   "source": [
    "model_kwargs = {\n",
    "    \"trust_remote_code\": True,\n",
    "    # \"device\": \"cpu\"\n",
    "    }\n",
    "encode_kwargs={\"normalize_embeddings\": True}\n",
    "embeddings = HuggingFaceEmbeddings(model_name=\"sentence-transformers/all-mpnet-base-v2\", model_kwargs=model_kwargs, encode_kwargs=encode_kwargs)"
   ]
  },
  {
   "cell_type": "code",
   "execution_count": 8,
   "metadata": {},
   "outputs": [],
   "source": [
    "docs = [\n",
    "    Document(\n",
    "        page_content=doc[\"page_content\"],\n",
    "        metadata=doc[\"metadata\"]\n",
    "    )\n",
    "    for doc in out\n",
    "]\n",
    "# vectorstore = Chroma.from_documents(docs, embeddings, collection_name=\"course_info\", persist_directory=\"../data/chromadb\")\n",
    "vectorstore = Chroma.from_documents(docs, embeddings)"
   ]
  },
  {
   "cell_type": "code",
   "execution_count": 9,
   "metadata": {},
   "outputs": [
    {
     "data": {
      "text/plain": [
       "45"
      ]
     },
     "execution_count": 9,
     "metadata": {},
     "output_type": "execute_result"
    }
   ],
   "source": [
    "vectorstore._collection.count()"
   ]
  },
  {
   "cell_type": "code",
   "execution_count": 11,
   "metadata": {},
   "outputs": [],
   "source": [
    "from langchain.chains.query_constructor.base import AttributeInfo\n",
    "from langchain.retrievers.self_query.base import SelfQueryRetriever\n",
    "from langchain_openai import ChatOpenAI\n",
    "from langchain.retrievers.self_query.chroma import ChromaTranslator\n",
    "\n",
    "metadata_field_info = [\n",
    "    AttributeInfo(\n",
    "        name=\"restaurant_name\",\n",
    "        description=\"Name of the restaurant\",\n",
    "        type=\"string\",\n",
    "    ),\n",
    "    AttributeInfo(\n",
    "        name=\"item_type\",\n",
    "        description=\"Type of the food dish[Startes, Main Course, Desserts]\",\n",
    "        type=\"string\",\n",
    "    ),\n",
    "    AttributeInfo(\n",
    "        name=\"item_name\",\n",
    "        description=\"The name of a food dish\",\n",
    "        type=\"string\",\n",
    "    ),\n",
    "    AttributeInfo(\n",
    "        name=\"ingredients\",\n",
    "        description=\"The ingredients present in the food. All values are comma seperated. Use contains query to filter values for this attribute\",\n",
    "        type=\"string\",\n",
    "    ),\n",
    "    AttributeInfo(\n",
    "        name=\"cost\",\n",
    "        description=\"Cost of the food dish in dollars\",\n",
    "        type=\"float\",\n",
    "    ),\n",
    "    AttributeInfo(\n",
    "        name=\"preparation_time\",\n",
    "        description=\"Time taken to prepare the food in miuntes\",\n",
    "        type=\"integer\",\n",
    "    ),\n",
    "]\n",
    "document_content_description = \"Information regarding the course\"\n",
    "llm = ChatOpenAI(model=\"gpt-4-1106-preview\", temperature=0)\n",
    "retriever = SelfQueryRetriever.from_llm(\n",
    "    llm,\n",
    "    vectorstore,\n",
    "    document_content_description,\n",
    "    metadata_field_info,\n",
    "    structured_query_translator=ChromaTranslator(),\n",
    "    enable_limit=True\n",
    ")"
   ]
  },
  {
   "cell_type": "code",
   "execution_count": 36,
   "metadata": {},
   "outputs": [],
   "source": [
    "user_query = \"Could you provide me with a list of starters?\""
   ]
  },
  {
   "cell_type": "code",
   "execution_count": 37,
   "metadata": {},
   "outputs": [],
   "source": [
    "question = f\"\"\"\n",
    "```{user_query}```\n",
    "Sample filters are:\n",
    "and(eq(\"restaurant_name\", \"Spice Symphony\"),  contain(\"ingredients\", \"Chicken\"))\n",
    "or(gte(\"cost\", 5), eq(\"preparation_time\", 10))\n",
    "\"\"\""
   ]
  },
  {
   "cell_type": "code",
   "execution_count": 38,
   "metadata": {},
   "outputs": [],
   "source": [
    "retriever_prompt = f\"\"\"{question}\"\"\".strip()"
   ]
  },
  {
   "cell_type": "code",
   "execution_count": 39,
   "metadata": {},
   "outputs": [
    {
     "name": "stdout",
     "output_type": "stream",
     "text": [
      "query='starters' filter=Operation(operator=<Operator.OR: 'or'>, arguments=[Operation(operator=<Operator.AND: 'and'>, arguments=[Comparison(comparator=<Comparator.EQ: 'eq'>, attribute='restaurant_name', value='Spice Symphony'), Comparison(comparator=<Comparator.CONTAIN: 'contain'>, attribute='ingredients', value='Chicken')]), Operation(operator=<Operator.OR: 'or'>, arguments=[Comparison(comparator=<Comparator.GTE: 'gte'>, attribute='cost', value=5), Comparison(comparator=<Comparator.EQ: 'eq'>, attribute='preparation_time', value=10)])]) limit=None\n"
     ]
    }
   ],
   "source": [
    "from langchain.chains.query_constructor.base import (\n",
    "    StructuredQueryOutputParser,\n",
    "    get_query_constructor_prompt,\n",
    ")\n",
    "prompt = get_query_constructor_prompt(\n",
    "    document_content_description,\n",
    "    metadata_field_info,\n",
    ")\n",
    "\n",
    "output_parser = StructuredQueryOutputParser.from_components()\n",
    "query_constructor = prompt | llm | output_parser\n",
    "\n",
    "# print(prompt.format(query=retriever_prompt))\n",
    "print(query_constructor.invoke(question))"
   ]
  },
  {
   "cell_type": "code",
   "execution_count": null,
   "metadata": {},
   "outputs": [],
   "source": []
  }
 ],
 "metadata": {
  "kernelspec": {
   "display_name": "stevens",
   "language": "python",
   "name": "python3"
  },
  "language_info": {
   "codemirror_mode": {
    "name": "ipython",
    "version": 3
   },
   "file_extension": ".py",
   "mimetype": "text/x-python",
   "name": "python",
   "nbconvert_exporter": "python",
   "pygments_lexer": "ipython3",
   "version": "3.11.5"
  }
 },
 "nbformat": 4,
 "nbformat_minor": 2
}
