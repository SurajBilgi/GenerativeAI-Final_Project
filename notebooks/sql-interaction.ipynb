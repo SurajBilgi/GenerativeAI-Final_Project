{
 "cells": [
  {
   "cell_type": "code",
   "execution_count": 1,
   "metadata": {},
   "outputs": [],
   "source": [
    "from langchain_core.output_parsers import StrOutputParser\n",
    "from langchain_openai import ChatOpenAI\n",
    "import json\n",
    "from prompts.common import SYSTEM_PROMPT\n",
    "from langchain_core.runnables import RunnablePassthrough, RunnableParallel\n",
    "from utils.common import to_markdown"
   ]
  },
  {
   "cell_type": "code",
   "execution_count": 2,
   "metadata": {},
   "outputs": [],
   "source": [
    "TABLE_GENERATION_PROMPT = \"\"\"\n",
    "Based on the table metadata and schema generate a sql query to answer the user question\n",
    "MetaData:\n",
    "TableName: name\n",
    "Description: Contains the name for each restaurant in the  area of the user\n",
    "Columns:\n",
    "id: contains unique id for each restaurant\n",
    "name: contains name of restaurant\n",
    "\n",
    "TableName:\n",
    "TableName: details\n",
    "Description: Contains all details regarding the restaurants menu\n",
    "Columns:\n",
    "restaurant_id: Foreign key that links this table with table `name`\n",
    "item_type: Categories the item [Starters, Main Course, Desserts]\n",
    "item_name: Name of item\n",
    "description: Description regarding the item\n",
    "ingredients: Ingredients of each item. Always lowercase this column values while querying.\n",
    "cost: Cost of each item in $\n",
    "preparation_time: Time taken to prepare each item in minutes\n",
    "\n",
    "Schema:\n",
    "create table restaurants.name(\n",
    "    id int,\n",
    "    name VARCHAR(255)\n",
    ");\n",
    "\n",
    "create table restaurants.details(\n",
    "restaurant_id int,\n",
    "item_type VARCHAR(50),\n",
    "item_name VARCHAR(255),\n",
    "description TEXT,\n",
    "ingredients TEXT,\n",
    "cost double,\n",
    "preparation_time int\n",
    ");\n",
    "\n",
    "<<Example 1>>\n",
    "User Query: What are the restaurants in my area\n",
    "\n",
    "Response:\n",
    "SELECT * FROM restaurants.name\n",
    "\n",
    "<<Example 2>>\n",
    "User Query: What is the menu for the restaurant Bistro Fusion?\n",
    "    \n",
    "Response:\n",
    "SELECT * FROM restaurants.details\n",
    "WHERE restaurant_id in (SELECT id FROM restaurants.name WHERE lower(name) like \"%bistro fusion%\")\n",
    "\n",
    "<<Example 3>>\n",
    "User Query: {input}\n",
    "\n",
    "Response:\n",
    "\"\"\""
   ]
  },
  {
   "cell_type": "code",
   "execution_count": 3,
   "metadata": {},
   "outputs": [],
   "source": [
    "llm = ChatOpenAI(model=\"gpt-3.5-turbo-0613\")"
   ]
  },
  {
   "cell_type": "code",
   "execution_count": 4,
   "metadata": {},
   "outputs": [],
   "source": [
    "from langchain_core.prompts import ChatPromptTemplate\n",
    "prompt = ChatPromptTemplate.from_messages([\n",
    "    (\"system\", \"You are skilled SQL Engineer who can extract relevant entities from a question and convert that into a SQL query\"),\n",
    "    (\"user\", TABLE_GENERATION_PROMPT)\n",
    "])"
   ]
  },
  {
   "cell_type": "code",
   "execution_count": 5,
   "metadata": {},
   "outputs": [],
   "source": [
    "output_parser = StrOutputParser()"
   ]
  },
  {
   "cell_type": "code",
   "execution_count": 6,
   "metadata": {},
   "outputs": [],
   "source": [
    "user_query = \"Could you tell me dishes that get ready within 10 minutes\"\n",
    "# question = .format(input=user_query)"
   ]
  },
  {
   "cell_type": "code",
   "execution_count": 7,
   "metadata": {},
   "outputs": [],
   "source": [
    "from utils.sql import MySQL"
   ]
  },
  {
   "cell_type": "code",
   "execution_count": 8,
   "metadata": {},
   "outputs": [],
   "source": [
    "mysql = MySQL()"
   ]
  },
  {
   "cell_type": "code",
   "execution_count": 9,
   "metadata": {},
   "outputs": [],
   "source": [
    "def process_query(query):\n",
    "    data = mysql(query)\n",
    "    return json.dumps(data)"
   ]
  },
  {
   "cell_type": "code",
   "execution_count": 10,
   "metadata": {},
   "outputs": [],
   "source": [
    "sql_chain = {\"input\": RunnablePassthrough()}  | prompt | llm | output_parser | process_query"
   ]
  },
  {
   "cell_type": "code",
   "execution_count": 11,
   "metadata": {},
   "outputs": [
    {
     "name": "stdout",
     "output_type": "stream",
     "text": [
      "[{\"restaurant_id\": \"0\", \"item_type\": \"Starters\", \"item_name\": \"Golden Corn Soup\", \"description\": \"A creamy, comforting blend of sweet corn and herbs.\", \"ingredients\": \"Sweet corn, Vegetable stock, Cream, Herbs\", \"cost\": 5.99, \"preparation_time\": 10}, {\"restaurant_id\": \"0\", \"item_type\": \"Starters\", \"item_name\": \"Beef Carpaccio\", \"description\": \"Thinly sliced raw beef dressed with olive oil, lemon juice, and capers.\", \"ingredients\": \"Beef, Olive oil, Lemon juice, Capers\", \"cost\": 9.99, \"preparation_time\": 10}, {\"restaurant_id\": \"1\", \"item_type\": \"Starters\", \"item_name\": \"Shrimp Cocktail\", \"description\": \"Chilled shrimp served with a zesty cocktail sauce.\", \"ingredients\": \"Shrimp, Cocktail sauce, Lemon\", \"cost\": 8.99, \"preparation_time\": 10}, {\"restaurant_id\": \"1\", \"item_type\": \"Starters\", \"item_name\": \"Bruschetta al Pomodoro\", \"description\": \"Toasted bread topped with fresh tomatoes, basil, and garlic.\", \"ingredients\": \"Bread, Tomatoes, Basil, Garlic\", \"cost\": 6.5, \"preparation_time\": 10}, {\"restaurant_id\": \"1\", \"item_type\": \"Desserts\", \"item_name\": \"Banana Split\", \"description\": \"Classic banana split with scoops of vanilla, chocolate, and strawberry ice cream, topped with sauces, whipped cream, and a cherry.\", \"ingredients\": \"Banana, Ice cream, Sauces, Whipped cream, Cherry\", \"cost\": 5.99, \"preparation_time\": 10}, {\"restaurant_id\": \"2\", \"item_type\": \"Desserts\", \"item_name\": \"Mango Lassi\", \"description\": \"A sweet and refreshing yogurt-based mango drink.\", \"ingredients\": \"Yogurt, Mango, Sugar, Cardamom\", \"cost\": 3.99, \"preparation_time\": 5}]\n"
     ]
    }
   ],
   "source": [
    "output = sql_chain.invoke(user_query)\n",
    "print(output)"
   ]
  },
  {
   "cell_type": "code",
   "execution_count": 12,
   "metadata": {},
   "outputs": [
    {
     "name": "stdout",
     "output_type": "stream",
     "text": [
      "Error executing query: (1064, 'You have an error in your SQL syntax; check the manual that corresponds to your MySQL server version for the right syntax to use near \\'[{\"restaurant_id\": \"0\", \"item_type\": \"Starters\", \"item_name\": \"Golden Corn Soup\"\\' at line 1')\n"
     ]
    },
    {
     "data": {
      "text/plain": [
       "'null'"
      ]
     },
     "execution_count": 12,
     "metadata": {},
     "output_type": "execute_result"
    }
   ],
   "source": [
    "query_result = process_query(output)\n",
    "query_result"
   ]
  },
  {
   "cell_type": "code",
   "execution_count": 13,
   "metadata": {},
   "outputs": [],
   "source": [
    "llm2 = ChatOpenAI(model=\"gpt-4-turbo\")"
   ]
  },
  {
   "cell_type": "code",
   "execution_count": 19,
   "metadata": {},
   "outputs": [],
   "source": [
    "template = ChatPromptTemplate.from_messages(\n",
    "    [\n",
    "        SYSTEM_PROMPT,\n",
    "            (\"human\",\n",
    "            \"\"\" \n",
    "Use the following pieces of retrieved context to answer the question.\n",
    "If you don't know the answer, just say that you don't know.\n",
    "If the context is empty then tell the user that no such data exists\n",
    "Mention the dish type\n",
    "Please format your response in Markdown. Include any necessary bullet points, tables, highlights, bold and italic text to enhance clarity and emphasis where needed.\n",
    "Render tables without code\n",
    "Question: {question}\n",
    "Context: {context}\n",
    "Answer:\"\"\".strip(),\n",
    "        ),\n",
    "    ]\n",
    ")\n",
    "\n",
    "main_chain = ( \n",
    "    template\n",
    "    | llm2\n",
    "    | StrOutputParser()\n",
    ")\n",
    "\n",
    "chain = (\n",
    "    RunnableParallel({\n",
    "        \"context\": sql_chain,\n",
    "        \"question\": RunnablePassthrough(),\n",
    "    }).assign(answer=main_chain)\n",
    ")"
   ]
  },
  {
   "cell_type": "code",
   "execution_count": 20,
   "metadata": {},
   "outputs": [],
   "source": [
    "out = chain.invoke(user_query)"
   ]
  },
  {
   "cell_type": "code",
   "execution_count": 21,
   "metadata": {},
   "outputs": [
    {
     "data": {
      "text/plain": [
       "{'context': '[{\"restaurant_id\": \"0\", \"item_type\": \"Starters\", \"item_name\": \"Golden Corn Soup\", \"description\": \"A creamy, comforting blend of sweet corn and herbs.\", \"ingredients\": \"Sweet corn, Vegetable stock, Cream, Herbs\", \"cost\": 5.99, \"preparation_time\": 10}, {\"restaurant_id\": \"0\", \"item_type\": \"Starters\", \"item_name\": \"Beef Carpaccio\", \"description\": \"Thinly sliced raw beef dressed with olive oil, lemon juice, and capers.\", \"ingredients\": \"Beef, Olive oil, Lemon juice, Capers\", \"cost\": 9.99, \"preparation_time\": 10}, {\"restaurant_id\": \"1\", \"item_type\": \"Starters\", \"item_name\": \"Shrimp Cocktail\", \"description\": \"Chilled shrimp served with a zesty cocktail sauce.\", \"ingredients\": \"Shrimp, Cocktail sauce, Lemon\", \"cost\": 8.99, \"preparation_time\": 10}, {\"restaurant_id\": \"1\", \"item_type\": \"Starters\", \"item_name\": \"Bruschetta al Pomodoro\", \"description\": \"Toasted bread topped with fresh tomatoes, basil, and garlic.\", \"ingredients\": \"Bread, Tomatoes, Basil, Garlic\", \"cost\": 6.5, \"preparation_time\": 10}, {\"restaurant_id\": \"1\", \"item_type\": \"Desserts\", \"item_name\": \"Banana Split\", \"description\": \"Classic banana split with scoops of vanilla, chocolate, and strawberry ice cream, topped with sauces, whipped cream, and a cherry.\", \"ingredients\": \"Banana, Ice cream, Sauces, Whipped cream, Cherry\", \"cost\": 5.99, \"preparation_time\": 10}, {\"restaurant_id\": \"2\", \"item_type\": \"Desserts\", \"item_name\": \"Mango Lassi\", \"description\": \"A sweet and refreshing yogurt-based mango drink.\", \"ingredients\": \"Yogurt, Mango, Sugar, Cardamom\", \"cost\": 3.99, \"preparation_time\": 5}]',\n",
       " 'question': 'Could you tell me dishes that get ready within 10 minutes',\n",
       " 'answer': 'Here are the dishes that can be prepared within **10 minutes**:\\n\\n### Starters\\n- **Golden Corn Soup**\\n  - **Description**: A creamy, comforting blend of sweet corn and herbs.\\n  - **Ingredients**: Sweet corn, Vegetable stock, Cream, Herbs\\n  - **Cost**: $5.99\\n\\n- **Beef Carpaccio**\\n  - **Description**: Thinly sliced raw beef dressed with olive oil, lemon juice, and capers.\\n  - **Ingredients**: Beef, Olive oil, Lemon juice, Capers\\n  - **Cost**: $9.99\\n\\n- **Shrimp Cocktail**\\n  - **Description**: Chilled shrimp served with a zesty cocktail sauce.\\n  - **Ingredients**: Shrimp, Cocktail sauce, Lemon\\n  - **Cost**: $8.99\\n\\n- **Bruschetta al Pomodoro**\\n  - **Description**: Toasted bread topped with fresh tomatoes, basil, and garlic.\\n  - **Ingredients**: Bread, Tomatoes, Basil, Garlic\\n  - **Cost**: $6.5\\n\\n### Desserts\\n- **Banana Split**\\n  - **Description**: Classic banana split with scoops of vanilla, chocolate, and strawberry ice cream, topped with sauces, whipped cream, and a cherry.\\n  - **Ingredients**: Banana, Ice cream, Sauces, Whipped cream, Cherry\\n  - **Cost**: $5.99\\n\\nThese dishes are quick to prepare, making them perfect choices for a swift dining experience.'}"
      ]
     },
     "execution_count": 21,
     "metadata": {},
     "output_type": "execute_result"
    }
   ],
   "source": [
    "out"
   ]
  },
  {
   "cell_type": "code",
   "execution_count": 22,
   "metadata": {},
   "outputs": [
    {
     "data": {
      "text/markdown": [
       "> Here are the dishes that can be prepared within **10 minutes**:\n",
       "> \n",
       "> ### Starters\n",
       "> - **Golden Corn Soup**\n",
       ">   - **Description**: A creamy, comforting blend of sweet corn and herbs.\n",
       ">   - **Ingredients**: Sweet corn, Vegetable stock, Cream, Herbs\n",
       ">   - **Cost**: $5.99\n",
       "> \n",
       "> - **Beef Carpaccio**\n",
       ">   - **Description**: Thinly sliced raw beef dressed with olive oil, lemon juice, and capers.\n",
       ">   - **Ingredients**: Beef, Olive oil, Lemon juice, Capers\n",
       ">   - **Cost**: $9.99\n",
       "> \n",
       "> - **Shrimp Cocktail**\n",
       ">   - **Description**: Chilled shrimp served with a zesty cocktail sauce.\n",
       ">   - **Ingredients**: Shrimp, Cocktail sauce, Lemon\n",
       ">   - **Cost**: $8.99\n",
       "> \n",
       "> - **Bruschetta al Pomodoro**\n",
       ">   - **Description**: Toasted bread topped with fresh tomatoes, basil, and garlic.\n",
       ">   - **Ingredients**: Bread, Tomatoes, Basil, Garlic\n",
       ">   - **Cost**: $6.5\n",
       "> \n",
       "> ### Desserts\n",
       "> - **Banana Split**\n",
       ">   - **Description**: Classic banana split with scoops of vanilla, chocolate, and strawberry ice cream, topped with sauces, whipped cream, and a cherry.\n",
       ">   - **Ingredients**: Banana, Ice cream, Sauces, Whipped cream, Cherry\n",
       ">   - **Cost**: $5.99\n",
       "> \n",
       "> These dishes are quick to prepare, making them perfect choices for a swift dining experience."
      ],
      "text/plain": [
       "<IPython.core.display.Markdown object>"
      ]
     },
     "execution_count": 22,
     "metadata": {},
     "output_type": "execute_result"
    }
   ],
   "source": [
    "to_markdown(out[\"answer\"])"
   ]
  },
  {
   "cell_type": "code",
   "execution_count": 10,
   "metadata": {},
   "outputs": [],
   "source": [
    "from chains.restaurant_data import RestaurantInfoChain\n",
    "from langchain_openai import ChatOpenAI\n",
    "from utils.common import to_markdown"
   ]
  },
  {
   "cell_type": "code",
   "execution_count": 2,
   "metadata": {},
   "outputs": [],
   "source": [
    "rest_info_chain = RestaurantInfoChain()"
   ]
  },
  {
   "cell_type": "code",
   "execution_count": 6,
   "metadata": {},
   "outputs": [],
   "source": [
    "user_query = \"Could you suggest dishes that get ready within 10 minutes\""
   ]
  },
  {
   "cell_type": "code",
   "execution_count": 7,
   "metadata": {},
   "outputs": [],
   "source": [
    "llm2 = ChatOpenAI(model=\"gpt-4-turbo\")"
   ]
  },
  {
   "cell_type": "code",
   "execution_count": 11,
   "metadata": {},
   "outputs": [],
   "source": [
    "result = rest_info_chain.process_prompt(llm2, user_query)"
   ]
  },
  {
   "cell_type": "code",
   "execution_count": 12,
   "metadata": {},
   "outputs": [
    {
     "data": {
      "text/markdown": [
       "> Here are some dishes from various restaurants that can be prepared within 10 minutes:\n",
       "> \n",
       "> ### Starters\n",
       "> | Item Name             | Description                                               | Ingredients                         | Cost  | Preparation Time |\n",
       "> |-----------------------|-----------------------------------------------------------|-------------------------------------|-------|------------------|\n",
       "> | **Golden Corn Soup**  | A creamy, comforting blend of sweet corn and herbs.       | Sweet corn, Vegetable stock, Cream, Herbs | $5.99 | 10 minutes       |\n",
       "> | **Beef Carpaccio**    | Thinly sliced raw beef dressed with olive oil, lemon juice, and capers. | Beef, Olive oil, Lemon juice, Capers | $9.99 | 10 minutes       |\n",
       "> | **Shrimp Cocktail**   | Chilled shrimp served with a zesty cocktail sauce.        | Shrimp, Cocktail sauce, Lemon       | $8.99 | 10 minutes       |\n",
       "> | **Bruschetta al Pomodoro** | Toasted bread topped with fresh tomatoes, basil, and garlic. | Bread, Tomatoes, Basil, Garlic     | $6.50 | 10 minutes       |\n",
       "> \n",
       "> ### Desserts\n",
       "> | Item Name         | Description                                                                                         | Ingredients                                   | Cost  | Preparation Time |\n",
       "> |-------------------|-----------------------------------------------------------------------------------------------------|-----------------------------------------------|-------|------------------|\n",
       "> | **Banana Split**  | Classic banana split with scoops of vanilla, chocolate, and strawberry ice cream, topped with sauces, whipped cream, and a cherry. | Banana, Ice cream, Sauces, Whipped cream, Cherry | $5.99 | 10 minutes       |\n",
       "> | **Mango Lassi**   | A sweet and refreshing yogurt-based mango drink.                                                    | Yogurt, Mango, Sugar, Cardamom                | $3.99 | 5 minutes        |\n",
       "> \n",
       "> These dishes are quick to prepare and cover a range of flavors and preferences, from savory starters to sweet desserts."
      ],
      "text/plain": [
       "<IPython.core.display.Markdown object>"
      ]
     },
     "execution_count": 12,
     "metadata": {},
     "output_type": "execute_result"
    }
   ],
   "source": [
    "to_markdown(result[\"answer\"])"
   ]
  },
  {
   "cell_type": "code",
   "execution_count": null,
   "metadata": {},
   "outputs": [],
   "source": []
  }
 ],
 "metadata": {
  "kernelspec": {
   "display_name": "stevens",
   "language": "python",
   "name": "python3"
  },
  "language_info": {
   "codemirror_mode": {
    "name": "ipython",
    "version": 3
   },
   "file_extension": ".py",
   "mimetype": "text/x-python",
   "name": "python",
   "nbconvert_exporter": "python",
   "pygments_lexer": "ipython3",
   "version": "3.11.5"
  }
 },
 "nbformat": 4,
 "nbformat_minor": 2
}
