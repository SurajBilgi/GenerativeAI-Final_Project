{
 "cells": [
  {
   "cell_type": "code",
   "execution_count": 1,
   "metadata": {},
   "outputs": [],
   "source": [
    "import json"
   ]
  },
  {
   "cell_type": "code",
   "execution_count": 2,
   "metadata": {},
   "outputs": [],
   "source": [
    "with open(\"data/past_orders.json\") as fp:\n",
    "    past_orders = json.load(fp)"
   ]
  },
  {
   "cell_type": "code",
   "execution_count": 3,
   "metadata": {},
   "outputs": [
    {
     "data": {
      "text/plain": [
       "'[{\"name\": \"Butter Chicken\", \"ingredients\": [\"Chicken\", \"Butter\", \"Cream\", \"Tomatoes\", \"Garam Masala\", \"Garlic\", \"Ginger\"], \"preparation_time\": 45, \"description\": \"A rich and creamy tomato-based curry flavored with Indian spices and butter.\", \"dish_type\": [\"main_course\"], \"prices\": \"$15\"}, {\"name\": \"Palak Paneer\", \"ingredients\": [\"Spinach\", \"Paneer\", \"Onion\", \"Tomatoes\", \"Garlic\", \"Garam Masala\", \"Cream\"], \"preparation_time\": 30, \"description\": \"A smooth spinach curry served with cubes of fried paneer cheese.\", \"dish_type\": [\"main_course\"], \"prices\": \"$12\"}, {\"name\": \"Chole Bhature\", \"ingredients\": [\"Chickpeas\", \"Flour\", \"Onion\", \"Tomatoes\", \"Garlic\", \"Chole Masala\", \"Oil\"], \"preparation_time\": 50, \"description\": \"Spicy chickpeas curry served with a fried bread called Bhature.\", \"dish_type\": [\"main_course\"], \"prices\": \"$10\"}, {\"name\": \"Rogan Josh\", \"ingredients\": [\"Lamb\", \"Yogurt\", \"Garlic\", \"Ginger\", \"Kashmiri Chilies\", \"Garam Masala\"], \"preparation_time\": 60, \"description\": \"Aromatic lamb curry with a gravy flavored with garlic, ginger, and Kashmiri spices.\", \"dish_type\": [\"main_course\"], \"prices\": \"$18\"}, {\"name\": \"Masala Dosa\", \"ingredients\": [\"Rice\", \"Urad Dal\", \"Potatoes\", \"Mustard Seeds\", \"Turmeric\", \"Curry Leaves\"], \"preparation_time\": 90, \"description\": \"Crispy rice pancake filled with a spicy mixture of mashed potatoes.\", \"dish_type\": [\"main_course\"], \"prices\": \"$8\"}, {\"name\": \"Samosa\", \"ingredients\": [\"Potatoes\", \"Peas\", \"Flour\", \"Ajwain\", \"Garam Masala\", \"Chili\", \"Oil\"], \"preparation_time\": 30, \"description\": \"Fried pastry with a savory filling of spiced potatoes and peas.\", \"dish_type\": [\"starter\"], \"prices\": \"$5\"}]'"
      ]
     },
     "execution_count": 3,
     "metadata": {},
     "output_type": "execute_result"
    }
   ],
   "source": [
    "json.dumps(past_orders)"
   ]
  },
  {
   "cell_type": "code",
   "execution_count": 9,
   "metadata": {},
   "outputs": [],
   "source": [
    "from langchain_openai import ChatOpenAI\n",
    "from chains.recommendation import RecommendationChain\n",
    "from utils.common import to_markdown"
   ]
  },
  {
   "cell_type": "code",
   "execution_count": 5,
   "metadata": {},
   "outputs": [],
   "source": [
    "llm = ChatOpenAI(model=\"gpt-4-turbo\")\n",
    "rec_chain = RecommendationChain()"
   ]
  },
  {
   "cell_type": "code",
   "execution_count": 6,
   "metadata": {},
   "outputs": [],
   "source": [
    "user_query = \"Could you suggest me chicken dishes from Bistro Fusion\""
   ]
  },
  {
   "cell_type": "code",
   "execution_count": 7,
   "metadata": {},
   "outputs": [],
   "source": [
    "output = rec_chain.process_prompt(llm, user_query)"
   ]
  },
  {
   "cell_type": "code",
   "execution_count": 8,
   "metadata": {},
   "outputs": [
    {
     "data": {
      "text/plain": [
       "{'context': '[{\"item_name\": \"Chicken Caesar Salad\", \"description\": \"Crisp romaine lettuce topped with grilled chicken, croutons, and Caesar dressing.\", \"ingredients\": \"Romaine lettuce, Chicken, Croutons, Caesar dressing\", \"cost\": 9.99, \"preparation_time\": 15}, {\"item_name\": \"Grilled Chicken Caesar Wrap\", \"description\": \"Grilled chicken with Caesar salad wrapped in a soft tortilla.\", \"ingredients\": \"Chicken, Romaine lettuce, Caesar dressing, Tortilla\", \"cost\": 11.99, \"preparation_time\": 15}]',\n",
       " 'question': 'Could you suggest me chicken dishes from Bistro Fusion',\n",
       " 'past_orders': '[{\"name\": \"Butter Chicken\", \"ingredients\": [\"Chicken\", \"Butter\", \"Cream\", \"Tomatoes\", \"Garam Masala\", \"Garlic\", \"Ginger\"], \"preparation_time\": 45, \"description\": \"A rich and creamy tomato-based curry flavored with Indian spices and butter.\", \"dish_type\": [\"main_course\"], \"prices\": \"$15\"}, {\"name\": \"Palak Paneer\", \"ingredients\": [\"Spinach\", \"Paneer\", \"Onion\", \"Tomatoes\", \"Garlic\", \"Garam Masala\", \"Cream\"], \"preparation_time\": 30, \"description\": \"A smooth spinach curry served with cubes of fried paneer cheese.\", \"dish_type\": [\"main_course\"], \"prices\": \"$12\"}, {\"name\": \"Chole Bhature\", \"ingredients\": [\"Chickpeas\", \"Flour\", \"Onion\", \"Tomatoes\", \"Garlic\", \"Chole Masala\", \"Oil\"], \"preparation_time\": 50, \"description\": \"Spicy chickpeas curry served with a fried bread called Bhature.\", \"dish_type\": [\"main_course\"], \"prices\": \"$10\"}, {\"name\": \"Rogan Josh\", \"ingredients\": [\"Lamb\", \"Yogurt\", \"Garlic\", \"Ginger\", \"Kashmiri Chilies\", \"Garam Masala\"], \"preparation_time\": 60, \"description\": \"Aromatic lamb curry with a gravy flavored with garlic, ginger, and Kashmiri spices.\", \"dish_type\": [\"main_course\"], \"prices\": \"$18\"}, {\"name\": \"Masala Dosa\", \"ingredients\": [\"Rice\", \"Urad Dal\", \"Potatoes\", \"Mustard Seeds\", \"Turmeric\", \"Curry Leaves\"], \"preparation_time\": 90, \"description\": \"Crispy rice pancake filled with a spicy mixture of mashed potatoes.\", \"dish_type\": [\"main_course\"], \"prices\": \"$8\"}, {\"name\": \"Samosa\", \"ingredients\": [\"Potatoes\", \"Peas\", \"Flour\", \"Ajwain\", \"Garam Masala\", \"Chili\", \"Oil\"], \"preparation_time\": 30, \"description\": \"Fried pastry with a savory filling of spiced potatoes and peas.\", \"dish_type\": [\"starter\"], \"prices\": \"$5\"}]',\n",
       " 'answer': \"### Recommended Chicken Dishes from Bistro Fusion\\n\\nBased on your past orders which include a variety of flavorful and rich dishes, I have selected two chicken dishes from Bistro Fusion that you might enjoy:\\n\\n1. **Chicken Caesar Salad**\\n   - **Description:** Crisp romaine lettuce topped with grilled chicken, croutons, and Caesar dressing.\\n   - **Ingredients:** Romaine lettuce, Chicken, Croutons, Caesar dressing\\n   - **Cost:** $9.99\\n   - **Preparation Time:** 15 minutes\\n   - **Why Recommended:** This dish is a lighter option compared to your past orders but still features chicken as a primary ingredient. It is perfect if you're looking for a meal that is both satisfying and not too heavy.\\n\\n2. **Grilled Chicken Caesar Wrap**\\n   - **Description:** Grilled chicken with Caesar salad wrapped in a soft tortilla.\\n   - **Ingredients:** Chicken, Romaine lettuce, Caesar dressing, Tortilla\\n   - **Cost:** $11.99\\n   - **Preparation Time:** 15 minutes\\n   - **Why Recommended:** This wrap offers a delightful twist by combining the classic flavors of a Caesar salad with the convenience of a wrap. It’s a great choice if you enjoy chicken dishes with a touch of uniqueness.\\n\\nThese recommendations are based on the inclusion of chicken and the preparation style that aligns with your previous choices of flavorful main courses.\"}"
      ]
     },
     "execution_count": 8,
     "metadata": {},
     "output_type": "execute_result"
    }
   ],
   "source": [
    "output"
   ]
  },
  {
   "cell_type": "code",
   "execution_count": 10,
   "metadata": {},
   "outputs": [
    {
     "data": {
      "text/markdown": [
       "> ### Recommended Chicken Dishes from Bistro Fusion\n",
       "> \n",
       "> Based on your past orders which include a variety of flavorful and rich dishes, I have selected two chicken dishes from Bistro Fusion that you might enjoy:\n",
       "> \n",
       "> 1. **Chicken Caesar Salad**\n",
       ">    - **Description:** Crisp romaine lettuce topped with grilled chicken, croutons, and Caesar dressing.\n",
       ">    - **Ingredients:** Romaine lettuce, Chicken, Croutons, Caesar dressing\n",
       ">    - **Cost:** $9.99\n",
       ">    - **Preparation Time:** 15 minutes\n",
       ">    - **Why Recommended:** This dish is a lighter option compared to your past orders but still features chicken as a primary ingredient. It is perfect if you're looking for a meal that is both satisfying and not too heavy.\n",
       "> \n",
       "> 2. **Grilled Chicken Caesar Wrap**\n",
       ">    - **Description:** Grilled chicken with Caesar salad wrapped in a soft tortilla.\n",
       ">    - **Ingredients:** Chicken, Romaine lettuce, Caesar dressing, Tortilla\n",
       ">    - **Cost:** $11.99\n",
       ">    - **Preparation Time:** 15 minutes\n",
       ">    - **Why Recommended:** This wrap offers a delightful twist by combining the classic flavors of a Caesar salad with the convenience of a wrap. It’s a great choice if you enjoy chicken dishes with a touch of uniqueness.\n",
       "> \n",
       "> These recommendations are based on the inclusion of chicken and the preparation style that aligns with your previous choices of flavorful main courses."
      ],
      "text/plain": [
       "<IPython.core.display.Markdown object>"
      ]
     },
     "execution_count": 10,
     "metadata": {},
     "output_type": "execute_result"
    }
   ],
   "source": [
    "to_markdown(output[\"answer\"])"
   ]
  },
  {
   "cell_type": "code",
   "execution_count": null,
   "metadata": {},
   "outputs": [],
   "source": []
  }
 ],
 "metadata": {
  "kernelspec": {
   "display_name": "stevens",
   "language": "python",
   "name": "python3"
  },
  "language_info": {
   "codemirror_mode": {
    "name": "ipython",
    "version": 3
   },
   "file_extension": ".py",
   "mimetype": "text/x-python",
   "name": "python",
   "nbconvert_exporter": "python",
   "pygments_lexer": "ipython3",
   "version": "3.11.5"
  }
 },
 "nbformat": 4,
 "nbformat_minor": 2
}
