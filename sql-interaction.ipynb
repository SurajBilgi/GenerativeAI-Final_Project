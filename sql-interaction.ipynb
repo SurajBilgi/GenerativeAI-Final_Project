{
 "cells": [
  {
   "cell_type": "code",
   "execution_count": 28,
   "metadata": {},
   "outputs": [],
   "source": [
    "from langchain_core.output_parsers import StrOutputParser\n",
    "from langchain_openai import ChatOpenAI"
   ]
  },
  {
   "cell_type": "code",
   "execution_count": 48,
   "metadata": {},
   "outputs": [],
   "source": [
    "TABLE_GENERATION_PROMPT = \"\"\"\n",
    "Based on the table metadata and schema generate a sql query to answer the user question\n",
    "MetaData:\n",
    "TableName: name\n",
    "Description: Contains the name for each restaurant in the  area of the user\n",
    "Columns:\n",
    "id: contains unique id for each restaurant\n",
    "name: contains name of restaurant\n",
    "\n",
    "TableName:\n",
    "TableName: details\n",
    "Description: Contains all details regarding the restaurants menu\n",
    "Columns:\n",
    "restaurant_id: Foreign key that links this table with table `name`\n",
    "item_type: Categories the item [Starters, Main Course, Desserts]\n",
    "item_name: Name of item\n",
    "description: Description regarding the item\n",
    "ingredients: Ingredients of each item\n",
    "cost: Cost of each item in $\n",
    "preparation_time: Time taken to prepare each item in minutes\n",
    "\n",
    "Schema:\n",
    "create table restaurants.name(\n",
    "    id int,\n",
    "    name VARCHAR(255)\n",
    ");\n",
    "\n",
    "create table restaurants.details(\n",
    "restaurant_id int,\n",
    "item_type VARCHAR(50),\n",
    "item_name VARCHAR(255),\n",
    "description TEXT,\n",
    "ingredients TEXT,\n",
    "cost double,\n",
    "preparation_time int\n",
    ");\n",
    "\n",
    "<<Example 1>>\n",
    "User Query: What are the restaurants in my area\n",
    "\n",
    "Response:\n",
    "SELECT * FROM restaurants.name\n",
    "\n",
    "<<Example 2>>\n",
    "User Query: What is the menu for the restaurant Bistro Fusion?\n",
    "    \n",
    "Response:\n",
    "SELECT * FROM restaurants.details\n",
    "WHERE restaurant_id in (SELECT id FROM name WHERE lower(restaurants.name) like \"%bistro fusion%\")\n",
    "\n",
    "<<Example 3>>\n",
    "User Query: {input}\n",
    "\n",
    "Response:\n",
    "\"\"\""
   ]
  },
  {
   "cell_type": "code",
   "execution_count": 49,
   "metadata": {},
   "outputs": [],
   "source": [
    "llm = ChatOpenAI(model=\"gpt-3.5-turbo-0613\")"
   ]
  },
  {
   "cell_type": "code",
   "execution_count": 50,
   "metadata": {},
   "outputs": [],
   "source": [
    "from langchain_core.prompts import ChatPromptTemplate\n",
    "prompt = ChatPromptTemplate.from_messages([\n",
    "    (\"system\", \"You are skilled SQL Engineer who can extract relevant entities from a question and convert that into a SQL query\"),\n",
    "    (\"user\", \"{input}\")\n",
    "])"
   ]
  },
  {
   "cell_type": "code",
   "execution_count": 51,
   "metadata": {},
   "outputs": [],
   "source": [
    "output_parser = StrOutputParser()"
   ]
  },
  {
   "cell_type": "code",
   "execution_count": 55,
   "metadata": {},
   "outputs": [],
   "source": [
    "# question = \"What are there for starters in The Culinary Haven\"\n",
    "question = TABLE_GENERATION_PROMPT.format(input=\"Could you tell me dishes that get ready within 10 minutes and are less than 5$ and contains Chicken\")"
   ]
  },
  {
   "cell_type": "code",
   "execution_count": 56,
   "metadata": {},
   "outputs": [],
   "source": [
    "chain = prompt | llm | output_parser"
   ]
  },
  {
   "cell_type": "code",
   "execution_count": 57,
   "metadata": {},
   "outputs": [
    {
     "name": "stdout",
     "output_type": "stream",
     "text": [
      "SELECT * FROM restaurants.details\n",
      "WHERE preparation_time <= 10 AND cost < 5 AND ingredients LIKE \"%chicken%\"\n"
     ]
    }
   ],
   "source": [
    "output = chain.invoke({\"input\": question})\n",
    "print(output)"
   ]
  },
  {
   "cell_type": "code",
   "execution_count": null,
   "metadata": {},
   "outputs": [],
   "source": [
    "[Chicken, Beef, mutton, fish] \n",
    "Chicken : 2\n",
    "Beef: 3\n",
    "mutton : 0\n",
    "fish: 1"
   ]
  }
 ],
 "metadata": {
  "kernelspec": {
   "display_name": "stevens",
   "language": "python",
   "name": "python3"
  },
  "language_info": {
   "codemirror_mode": {
    "name": "ipython",
    "version": 3
   },
   "file_extension": ".py",
   "mimetype": "text/x-python",
   "name": "python",
   "nbconvert_exporter": "python",
   "pygments_lexer": "ipython3",
   "version": "3.11.5"
  }
 },
 "nbformat": 4,
 "nbformat_minor": 2
}
